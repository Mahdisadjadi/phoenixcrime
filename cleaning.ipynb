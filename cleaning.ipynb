{
 "cells": [
  {
   "cell_type": "markdown",
   "metadata": {},
   "source": [
    "# Phoenix Crime\n",
    "### Cleaning data\n",
    "\n",
    "The dataset was downloaded from [Phoenix city website](https://www.phoenix.gov/opendata)."
   ]
  },
  {
   "cell_type": "code",
   "execution_count": 1,
   "metadata": {
    "collapsed": true
   },
   "outputs": [],
   "source": [
    "import numpy as np\n",
    "import pandas as pd\n",
    "import matplotlib.pyplot as plt\n",
    "%matplotlib inline"
   ]
  },
  {
   "cell_type": "code",
   "execution_count": 2,
   "metadata": {
    "collapsed": false
   },
   "outputs": [
    {
     "name": "stdout",
     "output_type": "stream",
     "text": [
      "(78133, 7)\n"
     ]
    },
    {
     "data": {
      "text/html": [
       "<div>\n",
       "<table border=\"1\" class=\"dataframe\">\n",
       "  <thead>\n",
       "    <tr style=\"text-align: right;\">\n",
       "      <th></th>\n",
       "      <th>INC NUMBER</th>\n",
       "      <th>OCCURRED ON</th>\n",
       "      <th>OCCURRED TO</th>\n",
       "      <th>UCR CRIME CATEGORY</th>\n",
       "      <th>100 BLOCK ADDR</th>\n",
       "      <th>ZIP</th>\n",
       "      <th>PREMISE TYPE</th>\n",
       "    </tr>\n",
       "  </thead>\n",
       "  <tbody>\n",
       "    <tr>\n",
       "      <th>0</th>\n",
       "      <td>201500002102668</td>\n",
       "      <td>11/01/2015  00:00</td>\n",
       "      <td>11/01/2015  11:50</td>\n",
       "      <td>MOTOR VEHICLE THEFT</td>\n",
       "      <td>69XX W WOOD ST</td>\n",
       "      <td>85043</td>\n",
       "      <td>SINGLE FAMILY HOUSE</td>\n",
       "    </tr>\n",
       "    <tr>\n",
       "      <th>1</th>\n",
       "      <td>201500002103724</td>\n",
       "      <td>11/01/2015  00:00</td>\n",
       "      <td>11/01/2015  15:21</td>\n",
       "      <td>DRUG OFFENSE</td>\n",
       "      <td>54XX W INDIAN SCHOOL RD</td>\n",
       "      <td>85031</td>\n",
       "      <td>APARTMENT</td>\n",
       "    </tr>\n",
       "    <tr>\n",
       "      <th>2</th>\n",
       "      <td>201600000052855</td>\n",
       "      <td>11/01/2015  00:00</td>\n",
       "      <td>01/09/2016  00:00</td>\n",
       "      <td>MOTOR VEHICLE THEFT</td>\n",
       "      <td>N 43RD AVE &amp; W CACTUS RD</td>\n",
       "      <td>85029</td>\n",
       "      <td>SINGLE FAMILY HOUSE</td>\n",
       "    </tr>\n",
       "    <tr>\n",
       "      <th>3</th>\n",
       "      <td>201600000527709</td>\n",
       "      <td>11/01/2015  00:00</td>\n",
       "      <td>03/22/2016  00:36</td>\n",
       "      <td>LARCENY-THEFT</td>\n",
       "      <td>33XX W CAMELBACK RD</td>\n",
       "      <td>85017</td>\n",
       "      <td>PARKING LOT</td>\n",
       "    </tr>\n",
       "    <tr>\n",
       "      <th>4</th>\n",
       "      <td>201500002101405</td>\n",
       "      <td>11/01/2015  00:00</td>\n",
       "      <td>11/01/2015  05:00</td>\n",
       "      <td>MOTOR VEHICLE THEFT</td>\n",
       "      <td>102XX W MEDLOCK AVE</td>\n",
       "      <td>85307</td>\n",
       "      <td>SINGLE FAMILY HOUSE</td>\n",
       "    </tr>\n",
       "    <tr>\n",
       "      <th>5</th>\n",
       "      <td>201600000594484</td>\n",
       "      <td>11/01/2015  00:00</td>\n",
       "      <td>NaN</td>\n",
       "      <td>RAPE</td>\n",
       "      <td>13XX E ALMERIA RD</td>\n",
       "      <td>85006</td>\n",
       "      <td>SINGLE FAMILY HOUSE</td>\n",
       "    </tr>\n",
       "    <tr>\n",
       "      <th>6</th>\n",
       "      <td>201500002102327</td>\n",
       "      <td>11/01/2015  00:00</td>\n",
       "      <td>11/01/2015  09:00</td>\n",
       "      <td>LARCENY-THEFT</td>\n",
       "      <td>51XX N 15TH ST</td>\n",
       "      <td>85014</td>\n",
       "      <td>APARTMENT</td>\n",
       "    </tr>\n",
       "    <tr>\n",
       "      <th>7</th>\n",
       "      <td>201500002168686</td>\n",
       "      <td>11/01/2015  00:00</td>\n",
       "      <td>11/11/2015  09:30</td>\n",
       "      <td>LARCENY-THEFT</td>\n",
       "      <td>14XX E HIGHLAND AVE</td>\n",
       "      <td>85014</td>\n",
       "      <td>PARKING LOT</td>\n",
       "    </tr>\n",
       "    <tr>\n",
       "      <th>8</th>\n",
       "      <td>201600000223791</td>\n",
       "      <td>11/01/2015  00:01</td>\n",
       "      <td>01/30/2016  23:59</td>\n",
       "      <td>BURGLARY</td>\n",
       "      <td>40XX E MCDOWELL RD</td>\n",
       "      <td>85008</td>\n",
       "      <td>07A STOREROOM/SHED (COMMERCIAL)</td>\n",
       "    </tr>\n",
       "    <tr>\n",
       "      <th>9</th>\n",
       "      <td>201500002334281</td>\n",
       "      <td>11/01/2015  00:01</td>\n",
       "      <td>11/30/2015  00:00</td>\n",
       "      <td>MOTOR VEHICLE THEFT</td>\n",
       "      <td>17XX W DESERT COVE AVE</td>\n",
       "      <td>85029</td>\n",
       "      <td>PARKING LOT</td>\n",
       "    </tr>\n",
       "  </tbody>\n",
       "</table>\n",
       "</div>"
      ],
      "text/plain": [
       "        INC NUMBER        OCCURRED ON        OCCURRED TO   UCR CRIME CATEGORY  \\\n",
       "0  201500002102668  11/01/2015  00:00  11/01/2015  11:50  MOTOR VEHICLE THEFT   \n",
       "1  201500002103724  11/01/2015  00:00  11/01/2015  15:21         DRUG OFFENSE   \n",
       "2  201600000052855  11/01/2015  00:00  01/09/2016  00:00  MOTOR VEHICLE THEFT   \n",
       "3  201600000527709  11/01/2015  00:00  03/22/2016  00:36        LARCENY-THEFT   \n",
       "4  201500002101405  11/01/2015  00:00  11/01/2015  05:00  MOTOR VEHICLE THEFT   \n",
       "5  201600000594484  11/01/2015  00:00                NaN                 RAPE   \n",
       "6  201500002102327  11/01/2015  00:00  11/01/2015  09:00        LARCENY-THEFT   \n",
       "7  201500002168686  11/01/2015  00:00  11/11/2015  09:30        LARCENY-THEFT   \n",
       "8  201600000223791  11/01/2015  00:01  01/30/2016  23:59             BURGLARY   \n",
       "9  201500002334281  11/01/2015  00:01  11/30/2015  00:00  MOTOR VEHICLE THEFT   \n",
       "\n",
       "             100 BLOCK ADDR    ZIP                     PREMISE TYPE  \n",
       "0            69XX W WOOD ST  85043              SINGLE FAMILY HOUSE  \n",
       "1   54XX W INDIAN SCHOOL RD  85031                        APARTMENT  \n",
       "2  N 43RD AVE & W CACTUS RD  85029              SINGLE FAMILY HOUSE  \n",
       "3       33XX W CAMELBACK RD  85017                      PARKING LOT  \n",
       "4       102XX W MEDLOCK AVE  85307              SINGLE FAMILY HOUSE  \n",
       "5         13XX E ALMERIA RD  85006              SINGLE FAMILY HOUSE  \n",
       "6            51XX N 15TH ST  85014                        APARTMENT  \n",
       "7       14XX E HIGHLAND AVE  85014                      PARKING LOT  \n",
       "8        40XX E MCDOWELL RD  85008  07A STOREROOM/SHED (COMMERCIAL)  \n",
       "9    17XX W DESERT COVE AVE  85029                      PARKING LOT  "
      ]
     },
     "execution_count": 2,
     "metadata": {},
     "output_type": "execute_result"
    }
   ],
   "source": [
    "df = pd.read_csv('./data/crimedataset.csv',)\n",
    "print (df.shape)\n",
    "df.head(10)"
   ]
  },
  {
   "cell_type": "code",
   "execution_count": 3,
   "metadata": {
    "collapsed": false
   },
   "outputs": [],
   "source": [
    "df['OCCURRED ON'].fillna(df['OCCURRED TO'], inplace=True)"
   ]
  },
  {
   "cell_type": "code",
   "execution_count": 4,
   "metadata": {
    "collapsed": false
   },
   "outputs": [],
   "source": [
    "temp=pd.DatetimeIndex(df['OCCURRED ON'])"
   ]
  },
  {
   "cell_type": "code",
   "execution_count": 5,
   "metadata": {
    "collapsed": false
   },
   "outputs": [
    {
     "data": {
      "text/html": [
       "<div>\n",
       "<table border=\"1\" class=\"dataframe\">\n",
       "  <thead>\n",
       "    <tr style=\"text-align: right;\">\n",
       "      <th></th>\n",
       "      <th>INC NUMBER</th>\n",
       "      <th>OCCURRED ON</th>\n",
       "      <th>OCCURRED TO</th>\n",
       "      <th>UCR CRIME CATEGORY</th>\n",
       "      <th>100 BLOCK ADDR</th>\n",
       "      <th>ZIP</th>\n",
       "      <th>PREMISE TYPE</th>\n",
       "      <th>date</th>\n",
       "      <th>hour</th>\n",
       "      <th>year</th>\n",
       "      <th>month</th>\n",
       "      <th>day</th>\n",
       "      <th>weekday</th>\n",
       "    </tr>\n",
       "  </thead>\n",
       "  <tbody>\n",
       "    <tr>\n",
       "      <th>0</th>\n",
       "      <td>201500002102668</td>\n",
       "      <td>11/01/2015  00:00</td>\n",
       "      <td>11/01/2015  11:50</td>\n",
       "      <td>MOTOR VEHICLE THEFT</td>\n",
       "      <td>69XX W WOOD ST</td>\n",
       "      <td>85043</td>\n",
       "      <td>SINGLE FAMILY HOUSE</td>\n",
       "      <td>2015-11-01</td>\n",
       "      <td>00:00:00</td>\n",
       "      <td>2015</td>\n",
       "      <td>11</td>\n",
       "      <td>1</td>\n",
       "      <td>Sunday</td>\n",
       "    </tr>\n",
       "    <tr>\n",
       "      <th>1</th>\n",
       "      <td>201500002103724</td>\n",
       "      <td>11/01/2015  00:00</td>\n",
       "      <td>11/01/2015  15:21</td>\n",
       "      <td>DRUG OFFENSE</td>\n",
       "      <td>54XX W INDIAN SCHOOL RD</td>\n",
       "      <td>85031</td>\n",
       "      <td>APARTMENT</td>\n",
       "      <td>2015-11-01</td>\n",
       "      <td>00:00:00</td>\n",
       "      <td>2015</td>\n",
       "      <td>11</td>\n",
       "      <td>1</td>\n",
       "      <td>Sunday</td>\n",
       "    </tr>\n",
       "    <tr>\n",
       "      <th>2</th>\n",
       "      <td>201600000052855</td>\n",
       "      <td>11/01/2015  00:00</td>\n",
       "      <td>01/09/2016  00:00</td>\n",
       "      <td>MOTOR VEHICLE THEFT</td>\n",
       "      <td>N 43RD AVE &amp; W CACTUS RD</td>\n",
       "      <td>85029</td>\n",
       "      <td>SINGLE FAMILY HOUSE</td>\n",
       "      <td>2015-11-01</td>\n",
       "      <td>00:00:00</td>\n",
       "      <td>2015</td>\n",
       "      <td>11</td>\n",
       "      <td>1</td>\n",
       "      <td>Sunday</td>\n",
       "    </tr>\n",
       "    <tr>\n",
       "      <th>3</th>\n",
       "      <td>201600000527709</td>\n",
       "      <td>11/01/2015  00:00</td>\n",
       "      <td>03/22/2016  00:36</td>\n",
       "      <td>LARCENY-THEFT</td>\n",
       "      <td>33XX W CAMELBACK RD</td>\n",
       "      <td>85017</td>\n",
       "      <td>PARKING LOT</td>\n",
       "      <td>2015-11-01</td>\n",
       "      <td>00:00:00</td>\n",
       "      <td>2015</td>\n",
       "      <td>11</td>\n",
       "      <td>1</td>\n",
       "      <td>Sunday</td>\n",
       "    </tr>\n",
       "    <tr>\n",
       "      <th>4</th>\n",
       "      <td>201500002101405</td>\n",
       "      <td>11/01/2015  00:00</td>\n",
       "      <td>11/01/2015  05:00</td>\n",
       "      <td>MOTOR VEHICLE THEFT</td>\n",
       "      <td>102XX W MEDLOCK AVE</td>\n",
       "      <td>85307</td>\n",
       "      <td>SINGLE FAMILY HOUSE</td>\n",
       "      <td>2015-11-01</td>\n",
       "      <td>00:00:00</td>\n",
       "      <td>2015</td>\n",
       "      <td>11</td>\n",
       "      <td>1</td>\n",
       "      <td>Sunday</td>\n",
       "    </tr>\n",
       "  </tbody>\n",
       "</table>\n",
       "</div>"
      ],
      "text/plain": [
       "        INC NUMBER        OCCURRED ON        OCCURRED TO   UCR CRIME CATEGORY  \\\n",
       "0  201500002102668  11/01/2015  00:00  11/01/2015  11:50  MOTOR VEHICLE THEFT   \n",
       "1  201500002103724  11/01/2015  00:00  11/01/2015  15:21         DRUG OFFENSE   \n",
       "2  201600000052855  11/01/2015  00:00  01/09/2016  00:00  MOTOR VEHICLE THEFT   \n",
       "3  201600000527709  11/01/2015  00:00  03/22/2016  00:36        LARCENY-THEFT   \n",
       "4  201500002101405  11/01/2015  00:00  11/01/2015  05:00  MOTOR VEHICLE THEFT   \n",
       "\n",
       "             100 BLOCK ADDR    ZIP         PREMISE TYPE        date      hour  \\\n",
       "0            69XX W WOOD ST  85043  SINGLE FAMILY HOUSE  2015-11-01  00:00:00   \n",
       "1   54XX W INDIAN SCHOOL RD  85031            APARTMENT  2015-11-01  00:00:00   \n",
       "2  N 43RD AVE & W CACTUS RD  85029  SINGLE FAMILY HOUSE  2015-11-01  00:00:00   \n",
       "3       33XX W CAMELBACK RD  85017          PARKING LOT  2015-11-01  00:00:00   \n",
       "4       102XX W MEDLOCK AVE  85307  SINGLE FAMILY HOUSE  2015-11-01  00:00:00   \n",
       "\n",
       "   year  month  day weekday  \n",
       "0  2015     11    1  Sunday  \n",
       "1  2015     11    1  Sunday  \n",
       "2  2015     11    1  Sunday  \n",
       "3  2015     11    1  Sunday  \n",
       "4  2015     11    1  Sunday  "
      ]
     },
     "execution_count": 5,
     "metadata": {},
     "output_type": "execute_result"
    }
   ],
   "source": [
    "df['date'] = temp.date\n",
    "df['hour'] = temp.time\n",
    "df['year'] = (temp.year).astype(int)\n",
    "df['month'] = (temp.month).astype(int)\n",
    "df['day'] = (temp.day).astype(int)\n",
    "df['weekday'] = temp.weekday_name\n",
    "\n",
    "df.head()"
   ]
  },
  {
   "cell_type": "code",
   "execution_count": 6,
   "metadata": {
    "collapsed": false
   },
   "outputs": [],
   "source": [
    "cols = ['OCCURRED ON','date','hour','year','month','day','weekday','ZIP','UCR CRIME CATEGORY','PREMISE TYPE']\n",
    "df = df[cols]\n",
    "df.head(10)\n",
    "df.columns = ['datetime','date','hour','year','month','day','weekday','zip','crime','place']"
   ]
  },
  {
   "cell_type": "code",
   "execution_count": 7,
   "metadata": {
    "collapsed": false
   },
   "outputs": [],
   "source": [
    "df.to_csv('./data/cleaneddataset.csv', encoding='utf-8',index=False)"
   ]
  },
  {
   "cell_type": "code",
   "execution_count": 8,
   "metadata": {
    "collapsed": false
   },
   "outputs": [
    {
     "data": {
      "text/plain": [
       "array([2015, 2016, 2017])"
      ]
     },
     "execution_count": 8,
     "metadata": {},
     "output_type": "execute_result"
    }
   ],
   "source": [
    "df['year'].unique()"
   ]
  },
  {
   "cell_type": "code",
   "execution_count": null,
   "metadata": {
    "collapsed": true
   },
   "outputs": [],
   "source": []
  }
 ],
 "metadata": {
  "kernelspec": {
   "display_name": "Python 3",
   "language": "python",
   "name": "python3"
  },
  "language_info": {
   "codemirror_mode": {
    "name": "ipython",
    "version": 3
   },
   "file_extension": ".py",
   "mimetype": "text/x-python",
   "name": "python",
   "nbconvert_exporter": "python",
   "pygments_lexer": "ipython3",
   "version": "3.5.2"
  }
 },
 "nbformat": 4,
 "nbformat_minor": 1
}
